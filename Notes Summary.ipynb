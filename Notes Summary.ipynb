{
 "cells": [
  {
   "cell_type": "code",
   "execution_count": 8,
   "id": "02b1db84",
   "metadata": {},
   "outputs": [],
   "source": [
    "#import os\n",
    "import openai\n",
    "\n",
    "#openai.api_key = os.getenv(\"OPENAI_API_KEY\")\n",
    "openai.api_key_path = \"E:/ACTIVE/Python/openai_key.txt\"\n",
    "\n",
    "response = openai.Completion.create(\n",
    "  model=\"text-davinci-003\",\n",
    "  prompt=\"Convert my short hand into a first-hand account of the meeting:\\n\\nTolbert: Expenses down by 20%\\nKanne: New servers are online\\nKiel: Need more time to fix software\\nJavan: Documentation under review\\nGama: Beta testing almost done\",\n",
    "  temperature=0,\n",
    "  max_tokens=64,\n",
    "  top_p=1.0,\n",
    "  frequency_penalty=0.0,\n",
    "  presence_penalty=0.0\n",
    ")"
   ]
  },
  {
   "cell_type": "code",
   "execution_count": 9,
   "id": "aac92f54",
   "metadata": {},
   "outputs": [
    {
     "data": {
      "text/plain": [
       "'\\n\\nAt the meeting, Mr. Tolbert reported that expenses had been reduced by 20%. Mr. Kanne then informed us that the new servers were now online. Mr. Kiel mentioned that they needed more time to fix the software. Mr. Javan mentioned that the documentation was currently under review. Lastly,'"
      ]
     },
     "execution_count": 9,
     "metadata": {},
     "output_type": "execute_result"
    }
   ],
   "source": [
    "response.choices[0].text"
   ]
  },
  {
   "cell_type": "code",
   "execution_count": null,
   "id": "08634b70",
   "metadata": {},
   "outputs": [],
   "source": []
  }
 ],
 "metadata": {
  "kernelspec": {
   "display_name": "Python 3 (ipykernel)",
   "language": "python",
   "name": "python3"
  },
  "language_info": {
   "codemirror_mode": {
    "name": "ipython",
    "version": 3
   },
   "file_extension": ".py",
   "mimetype": "text/x-python",
   "name": "python",
   "nbconvert_exporter": "python",
   "pygments_lexer": "ipython3",
   "version": "3.9.7"
  }
 },
 "nbformat": 4,
 "nbformat_minor": 5
}
